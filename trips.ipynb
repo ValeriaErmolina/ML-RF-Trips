{
 "cells": [
  {
   "cell_type": "code",
   "execution_count": 122,
   "metadata": {},
   "outputs": [],
   "source": [
    "#подключение библиотеки Pandas\n",
    "import pandas as pd"
   ]
  },
  {
   "cell_type": "code",
   "execution_count": 123,
   "metadata": {},
   "outputs": [],
   "source": [
    "#загрузка датасета\n",
    "trips = pd.read_excel(\"trips_data.xlsx\", index_col=0) # Датафрейм"
   ]
  },
  {
   "cell_type": "code",
   "execution_count": 124,
   "metadata": {},
   "outputs": [
    {
     "data": {
      "text/html": [
       "<div>\n",
       "<style scoped>\n",
       "    .dataframe tbody tr th:only-of-type {\n",
       "        vertical-align: middle;\n",
       "    }\n",
       "\n",
       "    .dataframe tbody tr th {\n",
       "        vertical-align: top;\n",
       "    }\n",
       "\n",
       "    .dataframe thead th {\n",
       "        text-align: right;\n",
       "    }\n",
       "</style>\n",
       "<table border=\"1\" class=\"dataframe\">\n",
       "  <thead>\n",
       "    <tr style=\"text-align: right;\">\n",
       "      <th></th>\n",
       "      <th>salary</th>\n",
       "      <th>city</th>\n",
       "      <th>age</th>\n",
       "      <th>vacation_preference</th>\n",
       "      <th>transport_preference</th>\n",
       "      <th>family_members</th>\n",
       "      <th>target</th>\n",
       "    </tr>\n",
       "  </thead>\n",
       "  <tbody>\n",
       "    <tr>\n",
       "      <th>0</th>\n",
       "      <td>196000</td>\n",
       "      <td>Краснодар</td>\n",
       "      <td>25</td>\n",
       "      <td>Шоппинг</td>\n",
       "      <td>Автомобиль</td>\n",
       "      <td>1</td>\n",
       "      <td>New York</td>\n",
       "    </tr>\n",
       "    <tr>\n",
       "      <th>1</th>\n",
       "      <td>152000</td>\n",
       "      <td>Екатеринбург</td>\n",
       "      <td>60</td>\n",
       "      <td>Архитектура</td>\n",
       "      <td>Самолет</td>\n",
       "      <td>1</td>\n",
       "      <td>London</td>\n",
       "    </tr>\n",
       "    <tr>\n",
       "      <th>2</th>\n",
       "      <td>83000</td>\n",
       "      <td>Томск</td>\n",
       "      <td>49</td>\n",
       "      <td>Архитектура</td>\n",
       "      <td>Автомобиль</td>\n",
       "      <td>2</td>\n",
       "      <td>Sydney</td>\n",
       "    </tr>\n",
       "    <tr>\n",
       "      <th>3</th>\n",
       "      <td>161000</td>\n",
       "      <td>Краснодар</td>\n",
       "      <td>41</td>\n",
       "      <td>Шоппинг</td>\n",
       "      <td>Автомобиль</td>\n",
       "      <td>0</td>\n",
       "      <td>New York</td>\n",
       "    </tr>\n",
       "    <tr>\n",
       "      <th>4</th>\n",
       "      <td>146000</td>\n",
       "      <td>Краснодар</td>\n",
       "      <td>58</td>\n",
       "      <td>Архитектура</td>\n",
       "      <td>Самолет</td>\n",
       "      <td>1</td>\n",
       "      <td>Sydney</td>\n",
       "    </tr>\n",
       "  </tbody>\n",
       "</table>\n",
       "</div>"
      ],
      "text/plain": [
       "   salary          city  age vacation_preference transport_preference  \\\n",
       "0  196000     Краснодар   25             Шоппинг           Автомобиль   \n",
       "1  152000  Екатеринбург   60         Архитектура              Самолет   \n",
       "2   83000         Томск   49         Архитектура           Автомобиль   \n",
       "3  161000     Краснодар   41             Шоппинг           Автомобиль   \n",
       "4  146000     Краснодар   58         Архитектура              Самолет   \n",
       "\n",
       "   family_members    target  \n",
       "0               1  New York  \n",
       "1               1    London  \n",
       "2               2    Sydney  \n",
       "3               0  New York  \n",
       "4               1    Sydney  "
      ]
     },
     "execution_count": 124,
     "metadata": {},
     "output_type": "execute_result"
    }
   ],
   "source": [
    "#вывод первых строк датасета\n",
    "trips.head()"
   ]
  },
  {
   "cell_type": "code",
   "execution_count": 125,
   "metadata": {},
   "outputs": [
    {
     "data": {
      "text/plain": [
       "count      1000.000000\n",
       "mean     111935.000000\n",
       "std       54580.049073\n",
       "min           0.000000\n",
       "25%       68000.000000\n",
       "50%       99000.000000\n",
       "75%      161000.000000\n",
       "max      250000.000000\n",
       "Name: salary, dtype: float64"
      ]
     },
     "execution_count": 125,
     "metadata": {},
     "output_type": "execute_result"
    }
   ],
   "source": [
    "#сбор общих статистических данных\n",
    "trips.salary.describe()"
   ]
  },
  {
   "cell_type": "code",
   "execution_count": 126,
   "metadata": {},
   "outputs": [
    {
     "data": {
      "text/plain": [
       "Краснодар       307\n",
       "Томск           267\n",
       "Хабаровск       107\n",
       "Киев            106\n",
       "Омск             84\n",
       "Екатеринбург     67\n",
       "Новосибирск      33\n",
       "Минск            14\n",
       "Петербург        13\n",
       "Ярославль         1\n",
       "Москва            1\n",
       "Name: city, dtype: int64"
      ]
     },
     "execution_count": 126,
     "metadata": {},
     "output_type": "execute_result"
    }
   ],
   "source": [
    "#вывод количества путешественников из каждого города\n",
    "trips.city.value_counts()"
   ]
  },
  {
   "cell_type": "code",
   "execution_count": 127,
   "metadata": {},
   "outputs": [
    {
     "data": {
      "text/plain": [
       "<matplotlib.axes._subplots.AxesSubplot at 0x7fe62a309910>"
      ]
     },
     "execution_count": 127,
     "metadata": {},
     "output_type": "execute_result"
    },
    {
     "data": {
      "image/png": "[encoded data removed]",
      "text/plain": [
       "<Figure size 432x288 with 1 Axes>"
      ]
     },
     "metadata": {
      "needs_background": "light"
     },
     "output_type": "display_data"
    }
   ],
   "source": [
    "#построение гистограммы,информирующей о зарплатах путешественников\n",
    "trips.salary.hist()"
   ]
  },
  {
   "cell_type": "code",
   "execution_count": 128,
   "metadata": {},
   "outputs": [
    {
     "data": {
      "text/plain": [
       "<matplotlib.axes._subplots.AxesSubplot at 0x7fe62a3dca60>"
      ]
     },
     "execution_count": 128,
     "metadata": {},
     "output_type": "execute_result"
    },
    {
     "data": {
      "image/png": "[encoded data removed]",
      "text/plain": [
       "<Figure size 432x288 with 1 Axes>"
      ]
     },
     "metadata": {
      "needs_background": "light"
     },
     "output_type": "display_data"
    }
   ],
   "source": [
    "#построение гистограммы,информирующей о возрасте путешественников\n",
    "trips.age.hist()"
   ]
  },
  {
   "cell_type": "code",
   "execution_count": 129,
   "metadata": {},
   "outputs": [
    {
     "data": {
      "text/plain": [
       "<matplotlib.axes._subplots.AxesSubplot at 0x7fe62a4b5e20>"
      ]
     },
     "execution_count": 129,
     "metadata": {},
     "output_type": "execute_result"
    },
    {
     "data": {
      "image/png": "[encoded data removed]",
      "text/plain": [
       "<Figure size 432x288 with 1 Axes>"
      ]
     },
     "metadata": {
      "needs_background": "light"
     },
     "output_type": "display_data"
    }
   ],
   "source": [
    "trips.city.value_counts().plot(kind='bar')"
   ]
  },
  {
   "cell_type": "code",
   "execution_count": 130,
   "metadata": {},
   "outputs": [
    {
     "data": {
      "text/plain": [
       "<matplotlib.axes._subplots.AxesSubplot at 0x7fe62a5965b0>"
      ]
     },
     "execution_count": 130,
     "metadata": {},
     "output_type": "execute_result"
    },
    {
     "data": {
      "image/png": "[encoded data removed]",
      "text/plain": [
       "<Figure size 432x288 with 1 Axes>"
      ]
     },
     "metadata": {
      "needs_background": "light"
     },
     "output_type": "display_data"
    }
   ],
   "source": [
    "trips.vacation_preference.value_counts().plot(kind='bar')"
   ]
  },
  {
   "cell_type": "code",
   "execution_count": 131,
   "metadata": {},
   "outputs": [
    {
     "data": {
      "text/plain": [
       "<matplotlib.axes._subplots.AxesSubplot at 0x7fe62a66d070>"
      ]
     },
     "execution_count": 131,
     "metadata": {},
     "output_type": "execute_result"
    },
    {
     "data": {
      "image/png": "[encoded data removed]",
      "text/plain": [
       "<Figure size 432x288 with 1 Axes>"
      ]
     },
     "metadata": {
      "needs_background": "light"
     },
     "output_type": "display_data"
    }
   ],
   "source": [
    "trips.transport_preference.value_counts().plot(kind='bar')"
   ]
  },
  {
   "cell_type": "code",
   "execution_count": 132,
   "metadata": {},
   "outputs": [
    {
     "data": {
      "text/html": [
       "<div>\n",
       "<style scoped>\n",
       "    .dataframe tbody tr th:only-of-type {\n",
       "        vertical-align: middle;\n",
       "    }\n",
       "\n",
       "    .dataframe tbody tr th {\n",
       "        vertical-align: top;\n",
       "    }\n",
       "\n",
       "    .dataframe thead th {\n",
       "        text-align: right;\n",
       "    }\n",
       "</style>\n",
       "<table border=\"1\" class=\"dataframe\">\n",
       "  <thead>\n",
       "    <tr style=\"text-align: right;\">\n",
       "      <th></th>\n",
       "      <th>salary</th>\n",
       "      <th>city</th>\n",
       "      <th>age</th>\n",
       "      <th>vacation_preference</th>\n",
       "      <th>transport_preference</th>\n",
       "      <th>family_members</th>\n",
       "      <th>target</th>\n",
       "    </tr>\n",
       "  </thead>\n",
       "  <tbody>\n",
       "    <tr>\n",
       "      <th>0</th>\n",
       "      <td>196000</td>\n",
       "      <td>Краснодар</td>\n",
       "      <td>25</td>\n",
       "      <td>Шоппинг</td>\n",
       "      <td>Автомобиль</td>\n",
       "      <td>1</td>\n",
       "      <td>New York</td>\n",
       "    </tr>\n",
       "    <tr>\n",
       "      <th>1</th>\n",
       "      <td>152000</td>\n",
       "      <td>Екатеринбург</td>\n",
       "      <td>60</td>\n",
       "      <td>Архитектура</td>\n",
       "      <td>Самолет</td>\n",
       "      <td>1</td>\n",
       "      <td>London</td>\n",
       "    </tr>\n",
       "    <tr>\n",
       "      <th>2</th>\n",
       "      <td>83000</td>\n",
       "      <td>Томск</td>\n",
       "      <td>49</td>\n",
       "      <td>Архитектура</td>\n",
       "      <td>Автомобиль</td>\n",
       "      <td>2</td>\n",
       "      <td>Sydney</td>\n",
       "    </tr>\n",
       "    <tr>\n",
       "      <th>3</th>\n",
       "      <td>161000</td>\n",
       "      <td>Краснодар</td>\n",
       "      <td>41</td>\n",
       "      <td>Шоппинг</td>\n",
       "      <td>Автомобиль</td>\n",
       "      <td>0</td>\n",
       "      <td>New York</td>\n",
       "    </tr>\n",
       "    <tr>\n",
       "      <th>4</th>\n",
       "      <td>146000</td>\n",
       "      <td>Краснодар</td>\n",
       "      <td>58</td>\n",
       "      <td>Архитектура</td>\n",
       "      <td>Самолет</td>\n",
       "      <td>1</td>\n",
       "      <td>Sydney</td>\n",
       "    </tr>\n",
       "  </tbody>\n",
       "</table>\n",
       "</div>"
      ],
      "text/plain": [
       "   salary          city  age vacation_preference transport_preference  \\\n",
       "0  196000     Краснодар   25             Шоппинг           Автомобиль   \n",
       "1  152000  Екатеринбург   60         Архитектура              Самолет   \n",
       "2   83000         Томск   49         Архитектура           Автомобиль   \n",
       "3  161000     Краснодар   41             Шоппинг           Автомобиль   \n",
       "4  146000     Краснодар   58         Архитектура              Самолет   \n",
       "\n",
       "   family_members    target  \n",
       "0               1  New York  \n",
       "1               1    London  \n",
       "2               2    Sydney  \n",
       "3               0  New York  \n",
       "4               1    Sydney  "
      ]
     },
     "execution_count": 132,
     "metadata": {},
     "output_type": "execute_result"
    }
   ],
   "source": [
    "trips.head()"
   ]
  },
  {
   "cell_type": "code",
   "execution_count": 133,
   "metadata": {},
   "outputs": [],
   "source": [
    "#замена категориальных признаков\n",
    "trips_transformed = pd.get_dummies(trips, columns=['city', 'vacation_preference', 'transport_preference'])"
   ]
  },
  {
   "cell_type": "code",
   "execution_count": 134,
   "metadata": {},
   "outputs": [
    {
     "data": {
      "text/html": [
       "<div>\n",
       "<style scoped>\n",
       "    .dataframe tbody tr th:only-of-type {\n",
       "        vertical-align: middle;\n",
       "    }\n",
       "\n",
       "    .dataframe tbody tr th {\n",
       "        vertical-align: top;\n",
       "    }\n",
       "\n",
       "    .dataframe thead th {\n",
       "        text-align: right;\n",
       "    }\n",
       "</style>\n",
       "<table border=\"1\" class=\"dataframe\">\n",
       "  <thead>\n",
       "    <tr style=\"text-align: right;\">\n",
       "      <th></th>\n",
       "      <th>salary</th>\n",
       "      <th>age</th>\n",
       "      <th>family_members</th>\n",
       "      <th>target</th>\n",
       "      <th>city_Екатеринбург</th>\n",
       "      <th>city_Киев</th>\n",
       "      <th>city_Краснодар</th>\n",
       "      <th>city_Минск</th>\n",
       "      <th>city_Москва</th>\n",
       "      <th>city_Новосибирск</th>\n",
       "      <th>...</th>\n",
       "      <th>city_Ярославль</th>\n",
       "      <th>vacation_preference_Архитектура</th>\n",
       "      <th>vacation_preference_Ночные клубы</th>\n",
       "      <th>vacation_preference_Пляжный отдых</th>\n",
       "      <th>vacation_preference_Шоппинг</th>\n",
       "      <th>transport_preference_Автомобиль</th>\n",
       "      <th>transport_preference_Космический корабль</th>\n",
       "      <th>transport_preference_Морской транспорт</th>\n",
       "      <th>transport_preference_Поезд</th>\n",
       "      <th>transport_preference_Самолет</th>\n",
       "    </tr>\n",
       "  </thead>\n",
       "  <tbody>\n",
       "    <tr>\n",
       "      <th>0</th>\n",
       "      <td>196000</td>\n",
       "      <td>25</td>\n",
       "      <td>1</td>\n",
       "      <td>New York</td>\n",
       "      <td>0</td>\n",
       "      <td>0</td>\n",
       "      <td>1</td>\n",
       "      <td>0</td>\n",
       "      <td>0</td>\n",
       "      <td>0</td>\n",
       "      <td>...</td>\n",
       "      <td>0</td>\n",
       "      <td>0</td>\n",
       "      <td>0</td>\n",
       "      <td>0</td>\n",
       "      <td>1</td>\n",
       "      <td>1</td>\n",
       "      <td>0</td>\n",
       "      <td>0</td>\n",
       "      <td>0</td>\n",
       "      <td>0</td>\n",
       "    </tr>\n",
       "    <tr>\n",
       "      <th>1</th>\n",
       "      <td>152000</td>\n",
       "      <td>60</td>\n",
       "      <td>1</td>\n",
       "      <td>London</td>\n",
       "      <td>1</td>\n",
       "      <td>0</td>\n",
       "      <td>0</td>\n",
       "      <td>0</td>\n",
       "      <td>0</td>\n",
       "      <td>0</td>\n",
       "      <td>...</td>\n",
       "      <td>0</td>\n",
       "      <td>1</td>\n",
       "      <td>0</td>\n",
       "      <td>0</td>\n",
       "      <td>0</td>\n",
       "      <td>0</td>\n",
       "      <td>0</td>\n",
       "      <td>0</td>\n",
       "      <td>0</td>\n",
       "      <td>1</td>\n",
       "    </tr>\n",
       "    <tr>\n",
       "      <th>2</th>\n",
       "      <td>83000</td>\n",
       "      <td>49</td>\n",
       "      <td>2</td>\n",
       "      <td>Sydney</td>\n",
       "      <td>0</td>\n",
       "      <td>0</td>\n",
       "      <td>0</td>\n",
       "      <td>0</td>\n",
       "      <td>0</td>\n",
       "      <td>0</td>\n",
       "      <td>...</td>\n",
       "      <td>0</td>\n",
       "      <td>1</td>\n",
       "      <td>0</td>\n",
       "      <td>0</td>\n",
       "      <td>0</td>\n",
       "      <td>1</td>\n",
       "      <td>0</td>\n",
       "      <td>0</td>\n",
       "      <td>0</td>\n",
       "      <td>0</td>\n",
       "    </tr>\n",
       "    <tr>\n",
       "      <th>3</th>\n",
       "      <td>161000</td>\n",
       "      <td>41</td>\n",
       "      <td>0</td>\n",
       "      <td>New York</td>\n",
       "      <td>0</td>\n",
       "      <td>0</td>\n",
       "      <td>1</td>\n",
       "      <td>0</td>\n",
       "      <td>0</td>\n",
       "      <td>0</td>\n",
       "      <td>...</td>\n",
       "      <td>0</td>\n",
       "      <td>0</td>\n",
       "      <td>0</td>\n",
       "      <td>0</td>\n",
       "      <td>1</td>\n",
       "      <td>1</td>\n",
       "      <td>0</td>\n",
       "      <td>0</td>\n",
       "      <td>0</td>\n",
       "      <td>0</td>\n",
       "    </tr>\n",
       "    <tr>\n",
       "      <th>4</th>\n",
       "      <td>146000</td>\n",
       "      <td>58</td>\n",
       "      <td>1</td>\n",
       "      <td>Sydney</td>\n",
       "      <td>0</td>\n",
       "      <td>0</td>\n",
       "      <td>1</td>\n",
       "      <td>0</td>\n",
       "      <td>0</td>\n",
       "      <td>0</td>\n",
       "      <td>...</td>\n",
       "      <td>0</td>\n",
       "      <td>1</td>\n",
       "      <td>0</td>\n",
       "      <td>0</td>\n",
       "      <td>0</td>\n",
       "      <td>0</td>\n",
       "      <td>0</td>\n",
       "      <td>0</td>\n",
       "      <td>0</td>\n",
       "      <td>1</td>\n",
       "    </tr>\n",
       "    <tr>\n",
       "      <th>...</th>\n",
       "      <td>...</td>\n",
       "      <td>...</td>\n",
       "      <td>...</td>\n",
       "      <td>...</td>\n",
       "      <td>...</td>\n",
       "      <td>...</td>\n",
       "      <td>...</td>\n",
       "      <td>...</td>\n",
       "      <td>...</td>\n",
       "      <td>...</td>\n",
       "      <td>...</td>\n",
       "      <td>...</td>\n",
       "      <td>...</td>\n",
       "      <td>...</td>\n",
       "      <td>...</td>\n",
       "      <td>...</td>\n",
       "      <td>...</td>\n",
       "      <td>...</td>\n",
       "      <td>...</td>\n",
       "      <td>...</td>\n",
       "      <td>...</td>\n",
       "    </tr>\n",
       "    <tr>\n",
       "      <th>995</th>\n",
       "      <td>81000</td>\n",
       "      <td>55</td>\n",
       "      <td>2</td>\n",
       "      <td>Paris</td>\n",
       "      <td>0</td>\n",
       "      <td>0</td>\n",
       "      <td>1</td>\n",
       "      <td>0</td>\n",
       "      <td>0</td>\n",
       "      <td>0</td>\n",
       "      <td>...</td>\n",
       "      <td>0</td>\n",
       "      <td>0</td>\n",
       "      <td>0</td>\n",
       "      <td>1</td>\n",
       "      <td>0</td>\n",
       "      <td>0</td>\n",
       "      <td>0</td>\n",
       "      <td>1</td>\n",
       "      <td>0</td>\n",
       "      <td>0</td>\n",
       "    </tr>\n",
       "    <tr>\n",
       "      <th>996</th>\n",
       "      <td>96000</td>\n",
       "      <td>32</td>\n",
       "      <td>1</td>\n",
       "      <td>Paris</td>\n",
       "      <td>0</td>\n",
       "      <td>0</td>\n",
       "      <td>1</td>\n",
       "      <td>0</td>\n",
       "      <td>0</td>\n",
       "      <td>0</td>\n",
       "      <td>...</td>\n",
       "      <td>0</td>\n",
       "      <td>1</td>\n",
       "      <td>0</td>\n",
       "      <td>0</td>\n",
       "      <td>0</td>\n",
       "      <td>0</td>\n",
       "      <td>0</td>\n",
       "      <td>0</td>\n",
       "      <td>1</td>\n",
       "      <td>0</td>\n",
       "    </tr>\n",
       "    <tr>\n",
       "      <th>997</th>\n",
       "      <td>56000</td>\n",
       "      <td>68</td>\n",
       "      <td>2</td>\n",
       "      <td>Paris</td>\n",
       "      <td>0</td>\n",
       "      <td>0</td>\n",
       "      <td>1</td>\n",
       "      <td>0</td>\n",
       "      <td>0</td>\n",
       "      <td>0</td>\n",
       "      <td>...</td>\n",
       "      <td>0</td>\n",
       "      <td>1</td>\n",
       "      <td>0</td>\n",
       "      <td>0</td>\n",
       "      <td>0</td>\n",
       "      <td>0</td>\n",
       "      <td>0</td>\n",
       "      <td>0</td>\n",
       "      <td>0</td>\n",
       "      <td>1</td>\n",
       "    </tr>\n",
       "    <tr>\n",
       "      <th>998</th>\n",
       "      <td>162000</td>\n",
       "      <td>69</td>\n",
       "      <td>0</td>\n",
       "      <td>Sydney</td>\n",
       "      <td>0</td>\n",
       "      <td>0</td>\n",
       "      <td>1</td>\n",
       "      <td>0</td>\n",
       "      <td>0</td>\n",
       "      <td>0</td>\n",
       "      <td>...</td>\n",
       "      <td>0</td>\n",
       "      <td>1</td>\n",
       "      <td>0</td>\n",
       "      <td>0</td>\n",
       "      <td>0</td>\n",
       "      <td>0</td>\n",
       "      <td>0</td>\n",
       "      <td>0</td>\n",
       "      <td>0</td>\n",
       "      <td>1</td>\n",
       "    </tr>\n",
       "    <tr>\n",
       "      <th>999</th>\n",
       "      <td>171000</td>\n",
       "      <td>35</td>\n",
       "      <td>1</td>\n",
       "      <td>New York</td>\n",
       "      <td>0</td>\n",
       "      <td>0</td>\n",
       "      <td>1</td>\n",
       "      <td>0</td>\n",
       "      <td>0</td>\n",
       "      <td>0</td>\n",
       "      <td>...</td>\n",
       "      <td>0</td>\n",
       "      <td>1</td>\n",
       "      <td>0</td>\n",
       "      <td>0</td>\n",
       "      <td>0</td>\n",
       "      <td>1</td>\n",
       "      <td>0</td>\n",
       "      <td>0</td>\n",
       "      <td>0</td>\n",
       "      <td>0</td>\n",
       "    </tr>\n",
       "  </tbody>\n",
       "</table>\n",
       "<p>1000 rows × 24 columns</p>\n",
       "</div>"
      ],
      "text/plain": [
       "     salary  age  family_members    target  city_Екатеринбург  city_Киев  \\\n",
       "0    196000   25               1  New York                  0          0   \n",
       "1    152000   60               1    London                  1          0   \n",
       "2     83000   49               2    Sydney                  0          0   \n",
       "3    161000   41               0  New York                  0          0   \n",
       "4    146000   58               1    Sydney                  0          0   \n",
       "..      ...  ...             ...       ...                ...        ...   \n",
       "995   81000   55               2     Paris                  0          0   \n",
       "996   96000   32               1     Paris                  0          0   \n",
       "997   56000   68               2     Paris                  0          0   \n",
       "998  162000   69               0    Sydney                  0          0   \n",
       "999  171000   35               1  New York                  0          0   \n",
       "\n",
       "     city_Краснодар  city_Минск  city_Москва  city_Новосибирск  ...  \\\n",
       "0                 1           0            0                 0  ...   \n",
       "1                 0           0            0                 0  ...   \n",
       "2                 0           0            0                 0  ...   \n",
       "3                 1           0            0                 0  ...   \n",
       "4                 1           0            0                 0  ...   \n",
       "..              ...         ...          ...               ...  ...   \n",
       "995               1           0            0                 0  ...   \n",
       "996               1           0            0                 0  ...   \n",
       "997               1           0            0                 0  ...   \n",
       "998               1           0            0                 0  ...   \n",
       "999               1           0            0                 0  ...   \n",
       "\n",
       "     city_Ярославль  vacation_preference_Архитектура  \\\n",
       "0                 0                                0   \n",
       "1                 0                                1   \n",
       "2                 0                                1   \n",
       "3                 0                                0   \n",
       "4                 0                                1   \n",
       "..              ...                              ...   \n",
       "995               0                                0   \n",
       "996               0                                1   \n",
       "997               0                                1   \n",
       "998               0                                1   \n",
       "999               0                                1   \n",
       "\n",
       "     vacation_preference_Ночные клубы  vacation_preference_Пляжный отдых  \\\n",
       "0                                   0                                  0   \n",
       "1                                   0                                  0   \n",
       "2                                   0                                  0   \n",
       "3                                   0                                  0   \n",
       "4                                   0                                  0   \n",
       "..                                ...                                ...   \n",
       "995                                 0                                  1   \n",
       "996                                 0                                  0   \n",
       "997                                 0                                  0   \n",
       "998                                 0                                  0   \n",
       "999                                 0                                  0   \n",
       "\n",
       "     vacation_preference_Шоппинг  transport_preference_Автомобиль  \\\n",
       "0                              1                                1   \n",
       "1                              0                                0   \n",
       "2                              0                                1   \n",
       "3                              1                                1   \n",
       "4                              0                                0   \n",
       "..                           ...                              ...   \n",
       "995                            0                                0   \n",
       "996                            0                                0   \n",
       "997                            0                                0   \n",
       "998                            0                                0   \n",
       "999                            0                                1   \n",
       "\n",
       "     transport_preference_Космический корабль  \\\n",
       "0                                           0   \n",
       "1                                           0   \n",
       "2                                           0   \n",
       "3                                           0   \n",
       "4                                           0   \n",
       "..                                        ...   \n",
       "995                                         0   \n",
       "996                                         0   \n",
       "997                                         0   \n",
       "998                                         0   \n",
       "999                                         0   \n",
       "\n",
       "     transport_preference_Морской транспорт  transport_preference_Поезд  \\\n",
       "0                                         0                           0   \n",
       "1                                         0                           0   \n",
       "2                                         0                           0   \n",
       "3                                         0                           0   \n",
       "4                                         0                           0   \n",
       "..                                      ...                         ...   \n",
       "995                                       1                           0   \n",
       "996                                       0                           1   \n",
       "997                                       0                           0   \n",
       "998                                       0                           0   \n",
       "999                                       0                           0   \n",
       "\n",
       "     transport_preference_Самолет  \n",
       "0                               0  \n",
       "1                               1  \n",
       "2                               0  \n",
       "3                               0  \n",
       "4                               1  \n",
       "..                            ...  \n",
       "995                             0  \n",
       "996                             0  \n",
       "997                             1  \n",
       "998                             1  \n",
       "999                             0  \n",
       "\n",
       "[1000 rows x 24 columns]"
      ]
     },
     "execution_count": 134,
     "metadata": {},
     "output_type": "execute_result"
    }
   ],
   "source": [
    "trips_transformed"
   ]
  },
  {
   "cell_type": "code",
   "execution_count": 135,
   "metadata": {},
   "outputs": [],
   "source": [
    "#определение признаков и целевой переменной\n",
    "input_data = trips_transformed.drop('target', axis=1) # Данные, на основе которых мы хотим научиться делать предсказание (признаки)\n",
    "target = trips_transformed.target # То, что мы пытаемся предсказать (целевая переменная)"
   ]
  },
  {
   "cell_type": "code",
   "execution_count": 136,
   "metadata": {},
   "outputs": [],
   "source": [
    "from sklearn.ensemble import RandomForestClassifier"
   ]
  },
  {
   "cell_type": "code",
   "execution_count": 137,
   "metadata": {},
   "outputs": [],
   "source": [
    "#создание модели Random Forest с гиперпараметрами по умолчанию\n",
    "model = RandomForestClassifier() "
   ]
  },
  {
   "cell_type": "code",
   "execution_count": 138,
   "metadata": {},
   "outputs": [
    {
     "data": {
      "text/plain": [
       "RandomForestClassifier()"
      ]
     },
     "execution_count": 138,
     "metadata": {},
     "output_type": "execute_result"
    }
   ],
   "source": [
    "#обучение модели Random Forest\n",
    "model.fit(input_data, target)"
   ]
  },
  {
   "cell_type": "code",
   "execution_count": 139,
   "metadata": {},
   "outputs": [
    {
     "data": {
      "text/plain": [
       "{'salary': [0],\n",
       " 'age': [0],\n",
       " 'family_members': [0],\n",
       " 'city_Екатеринбург': [0],\n",
       " 'city_Киев': [0],\n",
       " 'city_Краснодар': [0],\n",
       " 'city_Минск': [0],\n",
       " 'city_Москва': [0],\n",
       " 'city_Новосибирск': [0],\n",
       " 'city_Омск': [0],\n",
       " 'city_Петербург': [0],\n",
       " 'city_Томск': [0],\n",
       " 'city_Хабаровск': [0],\n",
       " 'city_Ярославль': [0],\n",
       " 'vacation_preference_Архитектура': [0],\n",
       " 'vacation_preference_Ночные клубы': [0],\n",
       " 'vacation_preference_Пляжный отдых': [0],\n",
       " 'vacation_preference_Шоппинг': [0],\n",
       " 'transport_preference_Автомобиль': [0],\n",
       " 'transport_preference_Космический корабль': [0],\n",
       " 'transport_preference_Морской транспорт': [0],\n",
       " 'transport_preference_Поезд': [0],\n",
       " 'transport_preference_Самолет': [0]}"
      ]
     },
     "execution_count": 139,
     "metadata": {},
     "output_type": "execute_result"
    }
   ],
   "source": [
    "{col:[0] for col in input_data.columns}"
   ]
  },
  {
   "cell_type": "code",
   "execution_count": 140,
   "metadata": {},
   "outputs": [],
   "source": [
    "example = {'salary': [200000],\n",
    " 'age': [70],\n",
    " 'family_members': [1],\n",
    " 'city_Екатеринбург': [1],\n",
    " 'city_Киев': [0],\n",
    " 'city_Краснодар': [0],\n",
    " 'city_Минск': [0],\n",
    " 'city_Москва': [0],\n",
    " 'city_Новосибирск': [0],\n",
    " 'city_Омск': [0],\n",
    " 'city_Петербург': [0],\n",
    " 'city_Томск': [0],\n",
    " 'city_Хабаровск': [0],\n",
    " 'city_Ярославль': [0],\n",
    " 'vacation_preference_Архитектура': [1],\n",
    " 'vacation_preference_Ночные клубы': [0],\n",
    " 'vacation_preference_Пляжный отдых': [0],\n",
    " 'vacation_preference_Шоппинг': [0],\n",
    " 'transport_preference_Автомобиль': [0],\n",
    " 'transport_preference_Космический корабль': [1],\n",
    " 'transport_preference_Морской транспорт': [0],\n",
    " 'transport_preference_Поезд': [0],\n",
    " 'transport_preference_Самолет': [0]}"
   ]
  },
  {
   "cell_type": "code",
   "execution_count": 141,
   "metadata": {},
   "outputs": [],
   "source": [
    "example_dataframe = pd.DataFrame(data=example)"
   ]
  },
  {
   "cell_type": "code",
   "execution_count": 142,
   "metadata": {},
   "outputs": [
    {
     "data": {
      "text/html": [
       "<div>\n",
       "<style scoped>\n",
       "    .dataframe tbody tr th:only-of-type {\n",
       "        vertical-align: middle;\n",
       "    }\n",
       "\n",
       "    .dataframe tbody tr th {\n",
       "        vertical-align: top;\n",
       "    }\n",
       "\n",
       "    .dataframe thead th {\n",
       "        text-align: right;\n",
       "    }\n",
       "</style>\n",
       "<table border=\"1\" class=\"dataframe\">\n",
       "  <thead>\n",
       "    <tr style=\"text-align: right;\">\n",
       "      <th></th>\n",
       "      <th>salary</th>\n",
       "      <th>age</th>\n",
       "      <th>family_members</th>\n",
       "      <th>city_Екатеринбург</th>\n",
       "      <th>city_Киев</th>\n",
       "      <th>city_Краснодар</th>\n",
       "      <th>city_Минск</th>\n",
       "      <th>city_Москва</th>\n",
       "      <th>city_Новосибирск</th>\n",
       "      <th>city_Омск</th>\n",
       "      <th>...</th>\n",
       "      <th>city_Ярославль</th>\n",
       "      <th>vacation_preference_Архитектура</th>\n",
       "      <th>vacation_preference_Ночные клубы</th>\n",
       "      <th>vacation_preference_Пляжный отдых</th>\n",
       "      <th>vacation_preference_Шоппинг</th>\n",
       "      <th>transport_preference_Автомобиль</th>\n",
       "      <th>transport_preference_Космический корабль</th>\n",
       "      <th>transport_preference_Морской транспорт</th>\n",
       "      <th>transport_preference_Поезд</th>\n",
       "      <th>transport_preference_Самолет</th>\n",
       "    </tr>\n",
       "  </thead>\n",
       "  <tbody>\n",
       "    <tr>\n",
       "      <th>0</th>\n",
       "      <td>200000</td>\n",
       "      <td>70</td>\n",
       "      <td>1</td>\n",
       "      <td>1</td>\n",
       "      <td>0</td>\n",
       "      <td>0</td>\n",
       "      <td>0</td>\n",
       "      <td>0</td>\n",
       "      <td>0</td>\n",
       "      <td>0</td>\n",
       "      <td>...</td>\n",
       "      <td>0</td>\n",
       "      <td>1</td>\n",
       "      <td>0</td>\n",
       "      <td>0</td>\n",
       "      <td>0</td>\n",
       "      <td>0</td>\n",
       "      <td>1</td>\n",
       "      <td>0</td>\n",
       "      <td>0</td>\n",
       "      <td>0</td>\n",
       "    </tr>\n",
       "  </tbody>\n",
       "</table>\n",
       "<p>1 rows × 23 columns</p>\n",
       "</div>"
      ],
      "text/plain": [
       "   salary  age  family_members  city_Екатеринбург  city_Киев  city_Краснодар  \\\n",
       "0  200000   70               1                  1          0               0   \n",
       "\n",
       "   city_Минск  city_Москва  city_Новосибирск  city_Омск  ...  city_Ярославль  \\\n",
       "0           0            0                 0          0  ...               0   \n",
       "\n",
       "   vacation_preference_Архитектура  vacation_preference_Ночные клубы  \\\n",
       "0                                1                                 0   \n",
       "\n",
       "   vacation_preference_Пляжный отдых  vacation_preference_Шоппинг  \\\n",
       "0                                  0                            0   \n",
       "\n",
       "   transport_preference_Автомобиль  transport_preference_Космический корабль  \\\n",
       "0                                0                                         1   \n",
       "\n",
       "   transport_preference_Морской транспорт  transport_preference_Поезд  \\\n",
       "0                                       0                           0   \n",
       "\n",
       "   transport_preference_Самолет  \n",
       "0                             0  \n",
       "\n",
       "[1 rows x 23 columns]"
      ]
     },
     "execution_count": 142,
     "metadata": {},
     "output_type": "execute_result"
    }
   ],
   "source": [
    "example_dataframe"
   ]
  },
  {
   "cell_type": "code",
   "execution_count": 143,
   "metadata": {},
   "outputs": [
    {
     "data": {
      "text/plain": [
       "array(['London'], dtype=object)"
      ]
     },
     "execution_count": 143,
     "metadata": {},
     "output_type": "execute_result"
    }
   ],
   "source": [
    "model.predict(example_dataframe)"
   ]
  },
  {
   "cell_type": "code",
   "execution_count": null,
   "metadata": {},
   "outputs": [],
   "source": []
  }
 ],
 "metadata": {
  "kernelspec": {
   "display_name": "Python 3",
   "language": "python",
   "name": "python3"
  },
  "language_info": {
   "codemirror_mode": {
    "name": "ipython",
    "version": 3
   },
   "file_extension": ".py",
   "mimetype": "text/x-python",
   "name": "python",
   "nbconvert_exporter": "python",
   "pygments_lexer": "ipython3",
   "version": "3.8.3"
  }
 },
 "nbformat": 4,
 "nbformat_minor": 4
}
